{
 "cells": [
  {
   "cell_type": "code",
   "execution_count": null,
   "metadata": {},
   "outputs": [
    {
     "name": "stdout",
     "output_type": "stream",
     "text": [
      "remote: Enumerating objects: 23, done.\u001b[K\n",
      "remote: Counting objects: 100% (23/23), done.\u001b[K\n",
      "remote: Compressing objects: 100% (21/21), done.\u001b[K\n",
      "remote: Total 21 (delta 14), reused 0 (delta 0), pack-reused 0\u001b[K\n",
      "Unpacking objects: 100% (21/21), 4.82 KiB | 149.00 KiB/s, done.\n",
      "From https://github.com/mphill82/Coursera_Capstone\n",
      "   4a9b817..b83f990  master     -> origin/master\n",
      "hint: Waiting for your editor to close the file... \u001b7\u001b[?47h\u001b[>4;2m\u001b[?1h\u001b=\u001b[?2004h\u001b[1;24r\u001b[?12h\u001b[?12l\u001b[22;2t\u001b[22;1t\u001b[29m\u001b[m\u001b[H\u001b[2J\u001b[?25l\u001b[24;1H\u001b[1m\u001b[37m\u001b[41mE325: ATTENTION\u001b[m\n",
      "Found a swap file by the name \"~/Documents/IBM Data Science Course/Coursera_Cap\n",
      "\u001b[23;80Hs\u001b[24;1Htone/.git/.MERGE_MSG.swp\"\n",
      "\u001b[10Cowned by: mitch   dated: Tue May 18 17:41:38 2021\n",
      "\u001b[9Cfile name: ~mitch/Documents/IBM Data Science Course/Coursera_Capstone/\n",
      "\u001b[23;80H.\u001b[24;1Hgit/MERGE_MSG\n",
      "\u001b[10Cmodified: YES\n",
      "\u001b[9Cuser name: mitch   host name: Mitchs-MBP.fios-router.home\n",
      "\u001b[8Cprocess ID: 65757\n",
      "While opening file \"/Users/mitch/Documents/IBM Data Science Course/Coursera_Cap\n",
      "\u001b[23;80Hs\u001b[24;1Htone/.git/MERGE_MSG\"\n",
      "\u001b[13Cdated: Mon Jun 14 18:22:09 2021\n",
      "      NEWER than swap file!\n",
      "\n",
      "(1) Another program may be editing the same file.  If this is the case,\n",
      "    be careful not to end up with two different instances of the same\n",
      "    file when making changes.  Quit, or continue with caution.\n",
      "(2) An edit session for this file crashed.\n",
      "    If this is the case, use \":recover\" or \"vim -r /Users/mitch/Documents/IBM D\n",
      "\u001b[23;80Ha\u001b[24;1Hta Science Course/Coursera_Capstone/.git/MERGE_MSG\"\n",
      "    to recover the changes (see \":help recovery\").\n",
      "    If you did this already, delete the swap file \"/Users/mitch/Documents/IBM D\n",
      "\u001b[23;80Ha\u001b[24;1Hta Science Course/Coursera_Capstone/.git/.MERGE_MSG.swp\"\n",
      "\u001b[32m-- More --\u001b[?25h"
     ]
    }
   ],
   "source": [
    "!git pull"
   ]
  },
  {
   "cell_type": "code",
   "execution_count": null,
   "metadata": {},
   "outputs": [],
   "source": []
  }
 ],
 "metadata": {
  "kernelspec": {
   "display_name": "Python 3",
   "language": "python",
   "name": "python3"
  },
  "language_info": {
   "codemirror_mode": {
    "name": "ipython",
    "version": 3
   },
   "file_extension": ".py",
   "mimetype": "text/x-python",
   "name": "python",
   "nbconvert_exporter": "python",
   "pygments_lexer": "ipython3",
   "version": "3.8.5"
  }
 },
 "nbformat": 4,
 "nbformat_minor": 4
}
